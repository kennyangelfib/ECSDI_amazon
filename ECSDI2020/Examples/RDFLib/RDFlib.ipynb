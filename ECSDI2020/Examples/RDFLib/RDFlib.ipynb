{
 "cells": [
  {
   "cell_type": "markdown",
   "metadata": {},
   "source": [
    "# Ejemplos de RDFlib"
   ]
  },
  {
   "cell_type": "markdown",
   "metadata": {},
   "source": [
    "Ejemplos de como usar rdflib para representar conceptos"
   ]
  },
  {
   "cell_type": "markdown",
   "metadata": {},
   "source": [
    "Creamos un grafo de conceptos vacío y un espacio de nombres que usaremos para los ejemplos"
   ]
  },
  {
   "cell_type": "code",
   "execution_count": 1,
   "metadata": {},
   "outputs": [],
   "source": [
    "from rdflib.namespace import RDF, RDFS, Namespace, FOAF, OWL\n",
    "from rdflib import Graph, BNode, Literal\n",
    "\n",
    "g = Graph()\n",
    "\n",
    "n = Namespace('http://ejemplo.org/')\n",
    "g.bind('ejemplo', n)\n",
    "g.bind('FOAF', FOAF)\n",
    "g.bind('OWL', OWL)"
   ]
  },
  {
   "cell_type": "code",
   "execution_count": 17,
   "metadata": {},
   "outputs": [
    {
     "output_type": "stream",
     "name": "stdout",
     "text": "http://ejemplo.org/newroute\nhttp://ejemplo.org/text-extra\n"
    }
   ],
   "source": [
    "#Hay varias formas de crear un nueva uri de name space\n",
    "#1) Se crea la nueva ruta de nombre \"newroute\"dentro de el namespace  \n",
    "x = n.newroute\n",
    "print(x)\n",
    "#2) Podemos usar [ ] para especificar el nombre de la nueva ruta\n",
    "# Ejem: En esta se añade el valor contenido en la variable 'var' -> \"text\" concatenado con el string '-extra' para forma un solo path -> text-extra\n",
    "var = \"text\"\n",
    "y = n[var + '-extra'] \n",
    "print(y)"
   ]
  },
  {
   "cell_type": "code",
   "execution_count": 15,
   "metadata": {},
   "outputs": [
    {
     "output_type": "stream",
     "name": "stdout",
     "text": "http://ejemplo.org/newroute\n"
    }
   ],
   "source": [
    "#En las dos formas de creacion vistas en el apartado anterior si la ruta ya existia no la crea sino solo la consulta\n",
    "#se usa para consultar el valor de ese path.\n",
    "print(n.newroute)"
   ]
  },
  {
   "cell_type": "markdown",
   "metadata": {},
   "source": [
    "Definimos un recurso que sea una persona"
   ]
  },
  {
   "cell_type": "code",
   "execution_count": 2,
   "metadata": {},
   "outputs": [
    {
     "output_type": "execute_result",
     "data": {
      "text/plain": "rdflib.term.URIRef('http://ejemplo.org/pedro')"
     },
     "metadata": {},
     "execution_count": 2
    }
   ],
   "source": [
    "p1 = n.pedro\n",
    "p1"
   ]
  },
  {
   "cell_type": "code",
   "execution_count": 3,
   "metadata": {},
   "outputs": [],
   "source": [
    "g.add((p1, RDF.type, FOAF.Person))"
   ]
  },
  {
   "cell_type": "markdown",
   "metadata": {},
   "source": [
    "Le añadimos un atributo edad con un valor que sera de la clase literal"
   ]
  },
  {
   "cell_type": "code",
   "execution_count": 4,
   "metadata": {},
   "outputs": [
    {
     "output_type": "execute_result",
     "data": {
      "text/plain": "rdflib.term.Literal('22', datatype=rdflib.term.URIRef('http://www.w3.org/2001/XMLSchema#integer'))"
     },
     "metadata": {},
     "execution_count": 4
    }
   ],
   "source": [
    "v = Literal(22)\n",
    "v"
   ]
  },
  {
   "cell_type": "code",
   "execution_count": 5,
   "metadata": {},
   "outputs": [],
   "source": [
    "g.add((p1, FOAF.age, v))"
   ]
  },
  {
   "cell_type": "markdown",
   "metadata": {},
   "source": [
    "Podemos ver el resultado en RDF (XML)"
   ]
  },
  {
   "cell_type": "code",
   "execution_count": 6,
   "metadata": {},
   "outputs": [
    {
     "output_type": "stream",
     "name": "stdout",
     "text": "<?xml version=\"1.0\" encoding=\"UTF-8\"?>\n<rdf:RDF\n   xmlns:FOAF=\"http://xmlns.com/foaf/0.1/\"\n   xmlns:rdf=\"http://www.w3.org/1999/02/22-rdf-syntax-ns#\"\n>\n  <rdf:Description rdf:about=\"http://ejemplo.org/pedro\">\n    <FOAF:age rdf:datatype=\"http://www.w3.org/2001/XMLSchema#integer\">22</FOAF:age>\n    <rdf:type rdf:resource=\"http://xmlns.com/foaf/0.1/Person\"/>\n  </rdf:Description>\n</rdf:RDF>\n\n"
    }
   ],
   "source": [
    "print(g.serialize(format='xml').decode())"
   ]
  },
  {
   "cell_type": "markdown",
   "metadata": {},
   "source": [
    "O en formato *turtle* que es un poco mas legible"
   ]
  },
  {
   "cell_type": "code",
   "execution_count": 7,
   "metadata": {},
   "outputs": [
    {
     "output_type": "stream",
     "name": "stdout",
     "text": "@prefix FOAF: <http://xmlns.com/foaf/0.1/> .\n@prefix ejemplo: <http://ejemplo.org/> .\n@prefix xsd: <http://www.w3.org/2001/XMLSchema#> .\n\nejemplo:pedro a FOAF:Person ;\n    FOAF:age 22 .\n\n\n"
    }
   ],
   "source": [
    "print(g.serialize(format='turtle').decode())"
   ]
  },
  {
   "cell_type": "markdown",
   "metadata": {},
   "source": [
    "Añadimos algunos hechos más al grafo"
   ]
  },
  {
   "cell_type": "code",
   "execution_count": 8,
   "metadata": {},
   "outputs": [],
   "source": [
    "\n",
    "eu= n.Europeo\n",
    "g.add((n.Barcelones, RDF.type, eu))\n",
    "g.add((n.Europeo, RDF.type, OWL.Class))\n",
    "g.add((n.Barcelones, RDFS.subClassOf, n.Europeo))"
   ]
  },
  {
   "cell_type": "code",
   "execution_count": 9,
   "metadata": {},
   "outputs": [],
   "source": [
    "g.add((p1, RDF.type, n.Barcelones))\n",
    "g.add((p1, FOAF.name, Literal('Pedro')))"
   ]
  },
  {
   "cell_type": "markdown",
   "metadata": {},
   "source": [
    "Y este es el resultado"
   ]
  },
  {
   "cell_type": "code",
   "execution_count": 10,
   "metadata": {},
   "outputs": [
    {
     "output_type": "stream",
     "name": "stdout",
     "text": "@prefix FOAF: <http://xmlns.com/foaf/0.1/> .\n@prefix OWL: <http://www.w3.org/2002/07/owl#> .\n@prefix ejemplo: <http://ejemplo.org/> .\n@prefix rdfs: <http://www.w3.org/2000/01/rdf-schema#> .\n@prefix xsd: <http://www.w3.org/2001/XMLSchema#> .\n\nejemplo:pedro a ejemplo:Barcelones,\n        FOAF:Person ;\n    FOAF:age 22 ;\n    FOAF:name \"Pedro\" .\n\nejemplo:Barcelones a ejemplo:Europeo ;\n    rdfs:subClassOf ejemplo:Europeo .\n\nejemplo:Europeo a OWL:Class .\n\n\n"
    }
   ],
   "source": [
    "print(g.serialize(format='turtle').decode())"
   ]
  },
  {
   "cell_type": "markdown",
   "metadata": {},
   "source": [
    "Ahora podemos consultar cosas sobre cual es el tipo de Pedro"
   ]
  },
  {
   "cell_type": "code",
   "execution_count": 74,
   "metadata": {},
   "outputs": [
    {
     "name": "stdout",
     "output_type": "stream",
     "text": [
      "http://ejemplo.org/pedro http://www.w3.org/1999/02/22-rdf-syntax-ns#type http://xmlns.com/foaf/0.1/person\n",
      "http://ejemplo.org/pedro http://www.w3.org/1999/02/22-rdf-syntax-ns#type http://ejemplo.org/Barcelones\n"
     ]
    }
   ],
   "source": [
    "res = g.triples((n.pedro, RDF.type, None))\n",
    "for s, p, o in res:\n",
    "    print (s, p, o)"
   ]
  },
  {
   "cell_type": "markdown",
   "metadata": {},
   "source": [
    "Una clausura transitiva permite seguir la secuencia de definiciones de pedro"
   ]
  },
  {
   "cell_type": "code",
   "execution_count": 75,
   "metadata": {},
   "outputs": [
    {
     "name": "stdout",
     "output_type": "stream",
     "text": [
      "http://ejemplo.org/pedro\n",
      "http://xmlns.com/foaf/0.1/person\n",
      "http://ejemplo.org/Barcelones\n",
      "http://ejemplo.org/Europeo\n",
      "http://www.w3.org/2002/07/owl#Class\n"
     ]
    }
   ],
   "source": [
    "res = g.transitive_objects(n.pedro, RDF.type)\n",
    "for r in res:\n",
    "    print (r)"
   ]
  },
  {
   "cell_type": "markdown",
   "metadata": {},
   "source": [
    "Tambén podemos usar el operador *in* para consultar si algo esta en el grafo"
   ]
  },
  {
   "cell_type": "code",
   "execution_count": 11,
   "metadata": {},
   "outputs": [
    {
     "output_type": "execute_result",
     "data": {
      "text/plain": "True"
     },
     "metadata": {},
     "execution_count": 11
    }
   ],
   "source": [
    "(n.pedro, None, None) in g # ¿Habla de Pedro el grafo?"
   ]
  },
  {
   "cell_type": "code",
   "execution_count": 12,
   "metadata": {},
   "outputs": [
    {
     "output_type": "execute_result",
     "data": {
      "text/plain": "True"
     },
     "metadata": {},
     "execution_count": 12
    }
   ],
   "source": [
    "(n.pedro, FOAF.age, None) in g # ¿Tiene una edad asignada?"
   ]
  },
  {
   "cell_type": "code",
   "execution_count": 13,
   "metadata": {},
   "outputs": [
    {
     "output_type": "execute_result",
     "data": {
      "text/plain": "True"
     },
     "metadata": {},
     "execution_count": 13
    }
   ],
   "source": [
    "(n.pedro, RDF.type, n.Barcelones) in g # ¿Es Pedro Barcelones?"
   ]
  },
  {
   "cell_type": "markdown",
   "metadata": {},
   "source": [
    "También podemos utilizar SPARQL para hacer las consultas ..."
   ]
  },
  {
   "cell_type": "code",
   "execution_count": 79,
   "metadata": {},
   "outputs": [
    {
     "name": "stdout",
     "output_type": "stream",
     "text": [
      "Pedro 22\n"
     ]
    }
   ],
   "source": [
    "res = g.query(\"\"\"\n",
    "            SELECT ?n ?e\n",
    "            WHERE { \n",
    "                ?p foaf:age ?e.\n",
    "                ?p foaf:name ?n.\n",
    "            }\n",
    "            \"\"\"\n",
    "              , initNs={'foaf': FOAF})\n",
    "for nm, e in res:\n",
    "    print (nm, e)"
   ]
  },
  {
   "cell_type": "markdown",
   "metadata": {},
   "source": [
    "Y modificaciones en el grafo"
   ]
  },
  {
   "cell_type": "code",
   "execution_count": 80,
   "metadata": {},
   "outputs": [],
   "source": [
    "g.update(\"\"\"\n",
    "         INSERT DATA\n",
    "         {\n",
    "          ejemplo:maria a foaf:person; foaf:name 'Maria'; foaf:edad 27.\n",
    "         }\n",
    "            \n",
    "\"\"\", initNs={'foaf': FOAF, 'ejemplo': n})"
   ]
  },
  {
   "cell_type": "code",
   "execution_count": 81,
   "metadata": {},
   "outputs": [
    {
     "name": "stdout",
     "output_type": "stream",
     "text": [
      "@prefix FOAF: <http://xmlns.com/foaf/0.1/> .\n",
      "@prefix OWL: <http://www.w3.org/2002/07/owl#> .\n",
      "@prefix ejemplo: <http://ejemplo.org/> .\n",
      "@prefix rdf: <http://www.w3.org/1999/02/22-rdf-syntax-ns#> .\n",
      "@prefix rdfs: <http://www.w3.org/2000/01/rdf-schema#> .\n",
      "@prefix xml: <http://www.w3.org/XML/1998/namespace> .\n",
      "@prefix xsd: <http://www.w3.org/2001/XMLSchema#> .\n",
      "\n",
      "ejemplo:maria a FOAF:person ;\n",
      "    FOAF:edad 27 ;\n",
      "    FOAF:name \"Maria\" .\n",
      "\n",
      "ejemplo:pedro a ejemplo:Barcelones,\n",
      "        FOAF:person ;\n",
      "    FOAF:age 22 ;\n",
      "    FOAF:name \"Pedro\" .\n",
      "\n",
      "ejemplo:Barcelones a ejemplo:Europeo ;\n",
      "    rdfs:subClassOf ejemplo:Europeo .\n",
      "\n",
      "ejemplo:Europeo a OWL:Class .\n",
      "\n",
      "\n"
     ]
    }
   ],
   "source": [
    "print(g.serialize(format='turtle').decode())"
   ]
  },
  {
   "cell_type": "code",
   "execution_count": null,
   "metadata": {},
   "outputs": [],
   "source": []
  }
 ],
 "metadata": {
  "kernelspec": {
   "display_name": "Python 3",
   "language": "python",
   "name": "python3"
  },
  "language_info": {
   "codemirror_mode": {
    "name": "ipython",
    "version": 3
   },
   "file_extension": ".py",
   "mimetype": "text/x-python",
   "name": "python",
   "nbconvert_exporter": "python",
   "pygments_lexer": "ipython3",
   "version": "3.8.2-final"
  },
  "toc": {
   "base_numbering": 1,
   "nav_menu": {},
   "number_sections": true,
   "sideBar": true,
   "skip_h1_title": false,
   "title_cell": "Table of Contents",
   "title_sidebar": "Contents",
   "toc_cell": false,
   "toc_position": {
    "height": "calc(100% - 180px)",
    "left": "10px",
    "top": "150px",
    "width": "165px"
   },
   "toc_section_display": true,
   "toc_window_display": false
  }
 },
 "nbformat": 4,
 "nbformat_minor": 1
}